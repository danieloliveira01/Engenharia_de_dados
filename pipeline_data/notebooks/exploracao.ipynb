{
 "cells": [
  {
   "cell_type": "markdown",
   "metadata": {},
   "source": [
    "Lendo os dados"
   ]
  },
  {
   "cell_type": "code",
   "execution_count": 22,
   "metadata": {},
   "outputs": [],
   "source": [
    "# Lendo os dados\n",
    "path_json = '../data_raw/dados_empresaA.json'"
   ]
  },
  {
   "cell_type": "code",
   "execution_count": 23,
   "metadata": {},
   "outputs": [
    {
     "name": "stdout",
     "output_type": "stream",
     "text": [
      "[{\"Nome do Produto\":\"Blush em p\\u00f3\",\"Categoria do Produto\":\"Eletrodom\\u00e9sticos\",\"Pre\\u00e7o do Produto (R$)\":79.41,\"Quantidade em Estoque\":7,\"Filial\":\"Filial 7\"},\n",
      "\n"
     ]
    }
   ],
   "source": [
    "with open(path_json, 'r') as file:\n",
    "    print(file.readline())"
   ]
  },
  {
   "cell_type": "code",
   "execution_count": 18,
   "metadata": {},
   "outputs": [],
   "source": [
    "with open(path_json, 'r') as file:\n",
    "    dados = file.readline()"
   ]
  },
  {
   "cell_type": "code",
   "execution_count": 19,
   "metadata": {},
   "outputs": [
    {
     "data": {
      "text/plain": [
       "'\\n'"
      ]
     },
     "execution_count": 19,
     "metadata": {},
     "output_type": "execute_result"
    }
   ],
   "source": [
    "dados"
   ]
  },
  {
   "cell_type": "code",
   "execution_count": 20,
   "metadata": {},
   "outputs": [],
   "source": [
    "import json"
   ]
  },
  {
   "cell_type": "code",
   "execution_count": 21,
   "metadata": {},
   "outputs": [],
   "source": [
    "with open(path_json, 'r') as file:\n",
    "    dados_json = json.load(file)"
   ]
  },
  {
   "cell_type": "code",
   "execution_count": 24,
   "metadata": {},
   "outputs": [
    {
     "data": {
      "text/plain": [
       "{'Nome do Produto': 'Blush em pó',\n",
       " 'Categoria do Produto': 'Eletrodomésticos',\n",
       " 'Preço do Produto (R$)': 79.41,\n",
       " 'Quantidade em Estoque': 7,\n",
       " 'Filial': 'Filial 7'}"
      ]
     },
     "execution_count": 24,
     "metadata": {},
     "output_type": "execute_result"
    }
   ],
   "source": [
    "dados_json[0]"
   ]
  },
  {
   "cell_type": "code",
   "execution_count": 25,
   "metadata": {},
   "outputs": [
    {
     "data": {
      "text/plain": [
       "list"
      ]
     },
     "execution_count": 25,
     "metadata": {},
     "output_type": "execute_result"
    }
   ],
   "source": [
    "type(dados_json)"
   ]
  },
  {
   "cell_type": "code",
   "execution_count": 26,
   "metadata": {},
   "outputs": [],
   "source": [
    "path_csv = '../data_raw/dados_empresaB.csv'"
   ]
  },
  {
   "cell_type": "code",
   "execution_count": 28,
   "metadata": {},
   "outputs": [
    {
     "name": "stdout",
     "output_type": "stream",
     "text": [
      "Nome do Item,Classificação do Produto,Valor em Reais (R$),Quantidade em Estoque,Nome da Loja,Data da Venda\n",
      "\n"
     ]
    }
   ],
   "source": [
    "with open(path_csv,'r') as file:\n",
    "    print(file.readlines()[0])"
   ]
  },
  {
   "cell_type": "code",
   "execution_count": 29,
   "metadata": {},
   "outputs": [],
   "source": [
    "with open(path_csv,'r') as file:\n",
    "    dados_csv = file.readlines()[0]"
   ]
  },
  {
   "cell_type": "code",
   "execution_count": 30,
   "metadata": {},
   "outputs": [],
   "source": [
    "import csv"
   ]
  },
  {
   "cell_type": "code",
   "execution_count": 35,
   "metadata": {},
   "outputs": [],
   "source": [
    "dados_csv = []\n",
    "with open(path_csv,'r') as file:\n",
    "    spamreader = csv.reader(file, delimiter=',')\n",
    "    for row in spamreader:\n",
    "        dados_csv.append(row)"
   ]
  },
  {
   "cell_type": "code",
   "execution_count": 36,
   "metadata": {},
   "outputs": [],
   "source": [
    "dados_csv = []\n",
    "with open(path_csv,'r') as file:\n",
    "    spamreader = csv.DictReader(file, delimiter=',')\n",
    "    for row in spamreader:\n",
    "        dados_csv.append(row)"
   ]
  },
  {
   "cell_type": "code",
   "execution_count": 39,
   "metadata": {},
   "outputs": [],
   "source": [
    "nome_colunas_json = list(dados_json[0].keys())"
   ]
  },
  {
   "cell_type": "code",
   "execution_count": 40,
   "metadata": {},
   "outputs": [
    {
     "data": {
      "text/plain": [
       "['Nome do Produto',\n",
       " 'Categoria do Produto',\n",
       " 'Preço do Produto (R$)',\n",
       " 'Quantidade em Estoque',\n",
       " 'Filial']"
      ]
     },
     "execution_count": 40,
     "metadata": {},
     "output_type": "execute_result"
    }
   ],
   "source": [
    "nome_colunas_json"
   ]
  },
  {
   "cell_type": "code",
   "execution_count": 41,
   "metadata": {},
   "outputs": [
    {
     "data": {
      "text/plain": [
       "5"
      ]
     },
     "execution_count": 41,
     "metadata": {},
     "output_type": "execute_result"
    }
   ],
   "source": [
    "len(nome_colunas_json)"
   ]
  },
  {
   "cell_type": "code",
   "execution_count": 42,
   "metadata": {},
   "outputs": [],
   "source": [
    "nome_colunas_csv = list(dados_csv[0].keys())"
   ]
  },
  {
   "cell_type": "code",
   "execution_count": 43,
   "metadata": {},
   "outputs": [
    {
     "data": {
      "text/plain": [
       "['Nome do Item',\n",
       " 'Classificação do Produto',\n",
       " 'Valor em Reais (R$)',\n",
       " 'Quantidade em Estoque',\n",
       " 'Nome da Loja',\n",
       " 'Data da Venda']"
      ]
     },
     "execution_count": 43,
     "metadata": {},
     "output_type": "execute_result"
    }
   ],
   "source": [
    "nome_colunas_csv"
   ]
  },
  {
   "cell_type": "code",
   "execution_count": null,
   "metadata": {},
   "outputs": [],
   "source": [
    "key_mapping = {'Nome do Item': 'Nome do Produto',\n",
    "                'Classificação do Produto': 'Categoria do Produto',\n",
    "                'Valor em Reais (R$)': 'Preço do Produto (R$)',\n",
    "                'Quantidade em Estoque': 'Quantidade em Estoque',\n",
    "                'Nome da Loja': 'Filial',\n",
    "                'Data da Venda': 'Data da Venda'}"
   ]
  },
  {
   "cell_type": "code",
   "execution_count": 45,
   "metadata": {},
   "outputs": [
    {
     "data": {
      "text/plain": [
       "{'Nome do Produto': 'Lápis de sobrancelha',\n",
       " 'Categoria do Produto': 'Roupas',\n",
       " 'Preço do Produto (R$)': '55.17',\n",
       " 'Quantidade em Estoque': '62',\n",
       " 'Filial': 'Filial 1',\n",
       " 'Data da Venda': '2023-04-13 18:58:06.794203'}"
      ]
     },
     "execution_count": 45,
     "metadata": {},
     "output_type": "execute_result"
    }
   ],
   "source": [
    "new_dados_csv = []\n",
    "\n",
    "for old_dict in dados_csv:\n",
    "    dict_temp = {}\n",
    "    for old_key, values in old_dict.items():\n",
    "        dict_temp[key_mapping[old_key]] = values\n",
    "    new_dados_csv.append(dict_temp)\n",
    "\n",
    "new_dados_csv[0]"
   ]
  },
  {
   "cell_type": "code",
   "execution_count": 56,
   "metadata": {},
   "outputs": [
    {
     "data": {
      "text/plain": [
       "{'Nome do Produto': 'Lápis de sobrancelha',\n",
       " 'Categoria do Produto': 'Roupas',\n",
       " 'Preço do Produto (R$)': '55.17',\n",
       " 'Quantidade em Estoque': '62',\n",
       " 'Filial': 'Filial 1',\n",
       " 'Data da Venda': '2023-04-13 18:58:06.794203'}"
      ]
     },
     "execution_count": 56,
     "metadata": {},
     "output_type": "execute_result"
    }
   ],
   "source": [
    "new_dados_csv = [{key_mapping.get(old_key): value for old_key, value in old_dict.items()} for old_dict in dados_csv]\n",
    "new_dados_csv[0]"
   ]
  },
  {
   "cell_type": "code",
   "execution_count": 46,
   "metadata": {},
   "outputs": [
    {
     "data": {
      "text/plain": [
       "{'Nome do Item': 'Lápis de sobrancelha',\n",
       " 'Classificação do Produto': 'Roupas',\n",
       " 'Valor em Reais (R$)': '55.17',\n",
       " 'Quantidade em Estoque': '62',\n",
       " 'Nome da Loja': 'Filial 1',\n",
       " 'Data da Venda': '2023-04-13 18:58:06.794203'}"
      ]
     },
     "execution_count": 46,
     "metadata": {},
     "output_type": "execute_result"
    }
   ],
   "source": [
    "dados_csv[0]"
   ]
  },
  {
   "cell_type": "code",
   "execution_count": 47,
   "metadata": {},
   "outputs": [
    {
     "data": {
      "text/plain": [
       "1323"
      ]
     },
     "execution_count": 47,
     "metadata": {},
     "output_type": "execute_result"
    }
   ],
   "source": [
    "len(dados_csv)"
   ]
  },
  {
   "cell_type": "code",
   "execution_count": 48,
   "metadata": {},
   "outputs": [
    {
     "data": {
      "text/plain": [
       "3123"
      ]
     },
     "execution_count": 48,
     "metadata": {},
     "output_type": "execute_result"
    }
   ],
   "source": [
    "len(dados_json)"
   ]
  },
  {
   "cell_type": "code",
   "execution_count": 79,
   "metadata": {},
   "outputs": [],
   "source": [
    "#unidno os dados \n",
    "combined_list = []\n",
    "combined_list.extend(dados_json)\n",
    "combined_list.extend(new_dados_csv)"
   ]
  },
  {
   "cell_type": "code",
   "execution_count": 80,
   "metadata": {},
   "outputs": [
    {
     "data": {
      "text/plain": [
       "4446"
      ]
     },
     "execution_count": 80,
     "metadata": {},
     "output_type": "execute_result"
    }
   ],
   "source": [
    "len(combined_list)"
   ]
  },
  {
   "cell_type": "code",
   "execution_count": 81,
   "metadata": {},
   "outputs": [
    {
     "data": {
      "text/plain": [
       "'2022-11-21 18:58:06.794203'"
      ]
     },
     "execution_count": 81,
     "metadata": {},
     "output_type": "execute_result"
    }
   ],
   "source": [
    "combined_list[-1].get('Data da Venda', 'Indisponivel')"
   ]
  },
  {
   "cell_type": "code",
   "execution_count": 82,
   "metadata": {},
   "outputs": [
    {
     "data": {
      "text/plain": [
       "['Nome do Produto',\n",
       " 'Categoria do Produto',\n",
       " 'Preço do Produto (R$)',\n",
       " 'Quantidade em Estoque',\n",
       " 'Filial',\n",
       " 'Data da Venda']"
      ]
     },
     "execution_count": 82,
     "metadata": {},
     "output_type": "execute_result"
    }
   ],
   "source": [
    "nome_colunas = list( combined_list[-1].keys())\n",
    "nome_colunas"
   ]
  },
  {
   "cell_type": "code",
   "execution_count": null,
   "metadata": {},
   "outputs": [],
   "source": [
    "# tratando linhas que não possuem dados e inserindo em dados_combinados_tabela\n",
    "dados_combinados_tabela = [nome_colunas]\n",
    "for row in combined_list:\n",
    "    linha = []\n",
    "    for coluna in nome_colunas:\n",
    "        linha.append(row.get(coluna, \"indisponivel\"))\n",
    "    dados_combinados_tabela.append(linha)"
   ]
  },
  {
   "cell_type": "code",
   "execution_count": 86,
   "metadata": {},
   "outputs": [
    {
     "data": {
      "text/plain": [
       "['Blush em pó', 'Eletrodomésticos', 79.41, 7, 'Filial 7', 'indisponivel']"
      ]
     },
     "execution_count": 86,
     "metadata": {},
     "output_type": "execute_result"
    }
   ],
   "source": [
    "dados_combinados_tabela[1]"
   ]
  },
  {
   "cell_type": "code",
   "execution_count": 88,
   "metadata": {},
   "outputs": [],
   "source": [
    "# salvando os dados\n",
    "path_dados_combinados = '../data_processed/dados_combinados.csv'\n",
    "\n",
    "with open(path_dados_combinados, 'w') as file:\n",
    "    writer = csv.writer(file)\n",
    "    writer.writerow(dados_combinados_tabela)\n"
   ]
  },
  {
   "cell_type": "code",
   "execution_count": null,
   "metadata": {},
   "outputs": [],
   "source": []
  }
 ],
 "metadata": {
  "kernelspec": {
   "display_name": "venv",
   "language": "python",
   "name": "python3"
  },
  "language_info": {
   "codemirror_mode": {
    "name": "ipython",
    "version": 3
   },
   "file_extension": ".py",
   "mimetype": "text/x-python",
   "name": "python",
   "nbconvert_exporter": "python",
   "pygments_lexer": "ipython3",
   "version": "3.12.3"
  }
 },
 "nbformat": 4,
 "nbformat_minor": 2
}
